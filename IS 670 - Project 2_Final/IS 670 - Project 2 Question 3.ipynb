{
 "cells": [
  {
   "cell_type": "code",
   "execution_count": 136,
   "id": "03aa67bf",
   "metadata": {},
   "outputs": [],
   "source": [
    "%matplotlib inline\n",
    "from pathlib import Path\n",
    "import pandas as pd\n",
    "import numpy as np\n",
    "from sklearn.tree import DecisionTreeClassifier, DecisionTreeRegressor\n",
    "from sklearn.ensemble import RandomForestClassifier, GradientBoostingClassifier, AdaBoostClassifier\n",
    "from sklearn.model_selection import train_test_split, cross_val_score, GridSearchCV\n",
    "import matplotlib.pylab as plt\n",
    "from dmba import plotDecisionTree, classificationSummary, regressionSummary\n",
    "import time \n",
    "import scipy.stats as stats"
   ]
  },
  {
   "cell_type": "markdown",
   "id": "eea95642",
   "metadata": {},
   "source": [
    "# Which major has the highest cumulative GPA?"
   ]
  },
  {
   "cell_type": "code",
   "execution_count": 137,
   "id": "90929fbf",
   "metadata": {},
   "outputs": [],
   "source": [
    "# create dataframe from StudentClasses and set StudentID as index\n",
    "student_class_df = pd.read_csv('StudentClass.csv')\n",
    "student_class_df.set_index('StudentID', inplace=True)\n",
    "student_class_df = student_class_df.dropna()"
   ]
  },
  {
   "cell_type": "code",
   "execution_count": 138,
   "id": "33e08a2a",
   "metadata": {},
   "outputs": [],
   "source": [
    "# create dataframe from StudentGraduate and set StudentID as index\n",
    "student_grad_df = pd.read_csv('StudentGraduate.csv')\n",
    "student_grad_df.set_index('ID', inplace=True)\n",
    "student_grad_df = student_grad_df.dropna()"
   ]
  },
  {
   "cell_type": "code",
   "execution_count": 139,
   "id": "18da8373",
   "metadata": {},
   "outputs": [],
   "source": [
    "# replace grades with quantative values\n",
    "# A = 4, B = 3, C = 2, D =1, F = 0\n",
    "student_class_df.loc[student_class_df['GRADE'] == 'A', 'GRADE'] = '4'\n",
    "student_class_df.loc[student_class_df['GRADE'] == 'B', 'GRADE'] = '3'\n",
    "student_class_df.loc[student_class_df['GRADE'] == 'C', 'GRADE'] = '2'\n",
    "student_class_df.loc[student_class_df['GRADE'] == 'D', 'GRADE'] = '1'\n",
    "student_class_df.loc[student_class_df['GRADE'] == 'F', 'GRADE'] = '0'"
   ]
  },
  {
   "cell_type": "code",
   "execution_count": 140,
   "id": "b7967914",
   "metadata": {},
   "outputs": [],
   "source": [
    "# convert GRADE to integer as the former datatype will be string\n",
    "student_class_df['GRADE'] = student_class_df['GRADE'].astype('int')"
   ]
  },
  {
   "cell_type": "code",
   "execution_count": 141,
   "id": "58a156bd",
   "metadata": {},
   "outputs": [],
   "source": [
    "# create a new dataframe that shows each student, their grade, and the major\n",
    "# other columns are irrelevant so drop them\n",
    "students_df = pd.merge(student_class_df, student_grad_df['Major'], left_index=True, right_index=True)\n",
    "students_df.drop(['ClassWeekDay', 'ClassMeetTime', 'ClassDate'], axis=1, inplace=True)"
   ]
  },
  {
   "cell_type": "code",
   "execution_count": 142,
   "id": "4b3fbc37",
   "metadata": {},
   "outputs": [],
   "source": [
    "# find students who took math, physics, and statistics\n",
    "quant_classes_df = students_df[\n",
    "    (students_df.ClassTitle == 'Math') | (students_df.ClassTitle == 'Physics') | (students_df.ClassTitle == 'Statistics')]"
   ]
  },
  {
   "cell_type": "code",
   "execution_count": 144,
   "id": "a49896b5",
   "metadata": {
    "scrolled": true
   },
   "outputs": [
    {
     "data": {
      "text/html": [
       "<div>\n",
       "<style scoped>\n",
       "    .dataframe tbody tr th:only-of-type {\n",
       "        vertical-align: middle;\n",
       "    }\n",
       "\n",
       "    .dataframe tbody tr th {\n",
       "        vertical-align: top;\n",
       "    }\n",
       "\n",
       "    .dataframe thead th {\n",
       "        text-align: right;\n",
       "    }\n",
       "</style>\n",
       "<table border=\"1\" class=\"dataframe\">\n",
       "  <thead>\n",
       "    <tr style=\"text-align: right;\">\n",
       "      <th></th>\n",
       "      <th>GPA</th>\n",
       "    </tr>\n",
       "    <tr>\n",
       "      <th>Major</th>\n",
       "      <th></th>\n",
       "    </tr>\n",
       "  </thead>\n",
       "  <tbody>\n",
       "    <tr>\n",
       "      <th>MKTG</th>\n",
       "      <td>2.814246</td>\n",
       "    </tr>\n",
       "    <tr>\n",
       "      <th>MGMT</th>\n",
       "      <td>2.774970</td>\n",
       "    </tr>\n",
       "    <tr>\n",
       "      <th>I S</th>\n",
       "      <td>2.760000</td>\n",
       "    </tr>\n",
       "    <tr>\n",
       "      <th>FIN</th>\n",
       "      <td>2.749658</td>\n",
       "    </tr>\n",
       "    <tr>\n",
       "      <th>ACCT</th>\n",
       "      <td>2.726148</td>\n",
       "    </tr>\n",
       "  </tbody>\n",
       "</table>\n",
       "</div>"
      ],
      "text/plain": [
       "            GPA\n",
       "Major          \n",
       "MKTG   2.814246\n",
       "MGMT   2.774970\n",
       "I S    2.760000\n",
       "FIN    2.749658\n",
       "ACCT   2.726148"
      ]
     },
     "execution_count": 144,
     "metadata": {},
     "output_type": "execute_result"
    }
   ],
   "source": [
    "# calculate gpas based on only math, physics, and statistics \n",
    "# group by gpa\n",
    "\n",
    "quant_classes_df = quant_classes_df.groupby('Major')['GRADE'].mean()\n",
    "quant_classes_df = quant_classes_df.to_frame()\n",
    "quant_classes_df = quant_classes_df.rename(columns={'GRADE': 'GPA'}) \n",
    "quant_classes_df.sort_values('GPA', ascending=False)"
   ]
  },
  {
   "cell_type": "markdown",
   "id": "8e465b7c",
   "metadata": {},
   "source": [
    "# Conclusion\n",
    "Based on the students in various majors who took the quantitative classes of Math, Physics, and Statistics, we can conclude that marketing majors had the highest GPA of 2.81 based on the three quantitative classes only."
   ]
  }
 ],
 "metadata": {
  "kernelspec": {
   "display_name": "Python 3 (ipykernel)",
   "language": "python",
   "name": "python3"
  },
  "language_info": {
   "codemirror_mode": {
    "name": "ipython",
    "version": 3
   },
   "file_extension": ".py",
   "mimetype": "text/x-python",
   "name": "python",
   "nbconvert_exporter": "python",
   "pygments_lexer": "ipython3",
   "version": "3.10.7"
  }
 },
 "nbformat": 4,
 "nbformat_minor": 5
}
